{
 "cells": [
  {
   "cell_type": "markdown",
   "id": "0347ebbc",
   "metadata": {},
   "source": [
    "# Q3. Singular Value Decomposition (SVD):\n",
    "Perform Singular Value Decomposition on the matrix A obtained in Question 2. Separate and print matrices U, Σ, and V.Verify that A equals the product of U, Σ, and 𝑉. Additionally, find the rank 2 and rank 3 approximations of matrix A."
   ]
  },
  {
   "cell_type": "code",
   "execution_count": 2,
   "id": "62bd403c",
   "metadata": {},
   "outputs": [],
   "source": [
    "import numpy as np"
   ]
  },
  {
   "cell_type": "code",
   "execution_count": 4,
   "id": "59ce7842",
   "metadata": {},
   "outputs": [],
   "source": [
    "np.random.seed(13)\n",
    "A = np.random.randint(0, 10, size=(5, 5))"
   ]
  },
  {
   "cell_type": "code",
   "execution_count": 5,
   "id": "e41270dd",
   "metadata": {},
   "outputs": [
    {
     "name": "stdout",
     "output_type": "stream",
     "text": [
      "Matrix U:\n",
      "[[-0.23249834 -0.40221686 -0.32319822  0.27599592  0.77687533]\n",
      " [-0.46703208  0.43278664 -0.66137324 -0.39311845 -0.05118668]\n",
      " [-0.55579718  0.46558423  0.34125178  0.59820625  0.00416204]\n",
      " [-0.37062812 -0.05071854  0.58309106 -0.63982266  0.33270738]\n",
      " [-0.5306127  -0.65694465 -0.04099252  0.04539141 -0.53210255]]\n",
      "\n",
      "Matrix Sigma:\n",
      "[[20.70373324  0.          0.          0.          0.        ]\n",
      " [ 0.          9.14384525  0.          0.          0.        ]\n",
      " [ 0.          0.          5.54037167  0.          0.        ]\n",
      " [ 0.          0.          0.          4.69511795  0.        ]\n",
      " [ 0.          0.          0.          0.          2.00141779]]\n",
      "\n",
      "Matrix V:\n",
      "[[-0.40190682  0.04762711 -0.2615964   0.59545098 -0.64281258]\n",
      " [-0.41658051  0.59208139 -0.45805945 -0.51566572  0.01306559]\n",
      " [-0.45004622  0.4288279   0.70764504  0.23347026  0.2414439 ]\n",
      " [-0.52372647 -0.46233619 -0.32458871  0.19594609  0.60679744]\n",
      " [-0.43370563 -0.49952294  0.34004341 -0.53537255 -0.40015369]]\n"
     ]
    }
   ],
   "source": [
    "# Perform Singular Value Decomposition (SVD)\n",
    "U, Sigma, V_transpose = np.linalg.svd(A)\n",
    "Sigma_mat = np.zeros_like(A, dtype=float)\n",
    "Sigma_mat[:min(A.shape[0], A.shape[1]), :min(A.shape[0], A.shape[1])] = np.diag(Sigma)\n",
    "print(\"Matrix U:\")\n",
    "print(U)\n",
    "print(\"\\nMatrix Sigma:\")\n",
    "print(Sigma_mat)\n",
    "print(\"\\nMatrix V:\")\n",
    "print(V_transpose.T)"
   ]
  },
  {
   "cell_type": "code",
   "execution_count": 6,
   "id": "d2e9672b",
   "metadata": {},
   "outputs": [
    {
     "name": "stdout",
     "output_type": "stream",
     "text": [
      "\n",
      "Verification that A equals the product of U, Sigma, and V:\n",
      "True\n"
     ]
    }
   ],
   "source": [
    "\n",
    "# Now we show that A equals the product of U, Sigma, and V\n",
    "A_reconstructed = np.dot(U, np.dot(Sigma_mat, V_transpose))\n",
    "print(\"\\nVerification that A equals the product of U, Sigma, and V:\")\n",
    "print(np.allclose(A, A_reconstructed))\n"
   ]
  },
  {
   "cell_type": "code",
   "execution_count": 7,
   "id": "569d3776",
   "metadata": {},
   "outputs": [
    {
     "name": "stdout",
     "output_type": "stream",
     "text": [
      "\n",
      "Rank 2 approximation of A:\n",
      "[[ 3.46671558 -2.40681923  2.94387126 -0.96973325  3.04617944]\n",
      " [ 2.23761247  1.88254266  0.71676183 -7.79826024  6.26725753]\n",
      " [ 2.85129349  1.97257791  1.06014535 -9.04720767  7.45251685]\n",
      " [ 3.27718052 -0.64004636  2.21976093 -4.32997867  4.92648961]\n",
      " [ 6.91761244 -4.07984852  5.62537338 -3.44382022  6.98323794]]\n",
      "\n",
      "Rank 3 approximation of A:\n",
      "[[ 4.27258555 -3.17469487  1.67673498 -1.38779403  2.61384075]\n",
      " [ 3.88669595  0.31120849 -1.87622905 -8.65375448  5.38254584]\n",
      " [ 2.00040834  2.78334639  2.39806272 -8.60579439  7.90900559]\n",
      " [ 1.82328766  0.74529984  4.50583739 -3.57574337  5.70648409]\n",
      " [ 7.01982414 -4.17724124  5.46465745 -3.49684453  6.9284027 ]]\n"
     ]
    }
   ],
   "source": [
    "# Rank 2 approximation\n",
    "A_rank2 = np.dot(U[:, :2], np.dot(Sigma_mat[:2, :2], V_transpose[:,:2].T))\n",
    "\n",
    "# Rank 3 approximation\n",
    "A_rank3 = np.dot(U[:, :3], np.dot(Sigma_mat[:3, :3], V_transpose[:,:3].T))\n",
    "\n",
    "print(\"\\nRank 2 approximation of A:\")\n",
    "print(A_rank2)\n",
    "print(\"\\nRank 3 approximation of A:\")\n",
    "print(A_rank3)\n"
   ]
  },
  {
   "cell_type": "code",
   "execution_count": null,
   "id": "75389386",
   "metadata": {},
   "outputs": [],
   "source": []
  }
 ],
 "metadata": {
  "kernelspec": {
   "display_name": "Python 3 (ipykernel)",
   "language": "python",
   "name": "python3"
  },
  "language_info": {
   "codemirror_mode": {
    "name": "ipython",
    "version": 3
   },
   "file_extension": ".py",
   "mimetype": "text/x-python",
   "name": "python",
   "nbconvert_exporter": "python",
   "pygments_lexer": "ipython3",
   "version": "3.11.5"
  }
 },
 "nbformat": 4,
 "nbformat_minor": 5
}
